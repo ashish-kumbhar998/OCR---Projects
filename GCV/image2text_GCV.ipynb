{
 "cells": [
  {
   "cell_type": "markdown",
   "id": "9896333c",
   "metadata": {},
   "source": [
    "### Install google cloud vision"
   ]
  },
  {
   "cell_type": "code",
   "execution_count": 1,
   "id": "e6a3ff15",
   "metadata": {},
   "outputs": [],
   "source": [
    "# !pip install google-cloud-vision"
   ]
  },
  {
   "cell_type": "markdown",
   "id": "5f016b0d",
   "metadata": {},
   "source": [
    "### Import GCV authentication key"
   ]
  },
  {
   "cell_type": "code",
   "execution_count": 2,
   "id": "59ece54b",
   "metadata": {},
   "outputs": [],
   "source": [
    "import io\n",
    "import os\n",
    "from google.cloud import vision\n",
    "os.environ['GOOGLE_APPLICATION_CREDENTIALS'] = \"Import GCV API key/JSON file \""
   ]
  },
  {
   "cell_type": "code",
   "execution_count": 3,
   "id": "c3e66d14",
   "metadata": {},
   "outputs": [],
   "source": [
    "def detect_text(path):\n",
    "    client = vision.ImageAnnotatorClient()\n",
    "\n",
    "    with io.open(path, 'rb') as image_file:\n",
    "        content = image_file.read()\n",
    "\n",
    "    image = vision.Image(content=content)\n",
    "\n",
    "    response = client.text_detection(image=image)\n",
    "    texts = response.text_annotations\n",
    "\n",
    "    for key, text in enumerate(texts):\n",
    "        if key == 0:\n",
    "            print(text.description)\n",
    "\n",
    "    if response.error.message:\n",
    "        raise Exception(\n",
    "            '{}\\nFor more info on error messages, check: '\n",
    "            'https://cloud.google.com/apis/design/errors'.format(\n",
    "                response.error.message))\n",
    "        \n",
    "    return text.description"
   ]
  },
  {
   "cell_type": "code",
   "execution_count": 4,
   "id": "9e9969b7",
   "metadata": {},
   "outputs": [
    {
     "name": "stdout",
     "output_type": "stream",
     "text": [
      "Reduce your risk of coronavirus infection:\n",
      "Clean hands with soap and water\n",
      "or alcohol-based hand rub\n",
      "Cover nose and mouth when coughing and\n",
      "sneezing with tissue or flexed elbow\n",
      "Avoid close contact with anyone with\n",
      "cold or flu-like symptoms\n",
      "Thoroughly cook meat and eggs\n",
      "No unprotected contact with live wild\n",
      "or farm animals\n",
      "World Health\n",
      "Organization\n"
     ]
    },
    {
     "data": {
      "text/plain": [
       "'Organization'"
      ]
     },
     "execution_count": 4,
     "metadata": {},
     "output_type": "execute_result"
    }
   ],
   "source": [
    "img = 'english.png' # path of image\n",
    "detect_text(img)"
   ]
  },
  {
   "cell_type": "code",
   "execution_count": null,
   "id": "ac6d8de4",
   "metadata": {},
   "outputs": [],
   "source": []
  }
 ],
 "metadata": {
  "kernelspec": {
   "display_name": "Python 3 (ipykernel)",
   "language": "python",
   "name": "python3"
  },
  "language_info": {
   "codemirror_mode": {
    "name": "ipython",
    "version": 3
   },
   "file_extension": ".py",
   "mimetype": "text/x-python",
   "name": "python",
   "nbconvert_exporter": "python",
   "pygments_lexer": "ipython3",
   "version": "3.9.13"
  }
 },
 "nbformat": 4,
 "nbformat_minor": 5
}
